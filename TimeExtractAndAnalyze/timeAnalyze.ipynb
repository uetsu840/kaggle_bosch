{
 "cells": [
  {
   "cell_type": "code",
   "execution_count": 2,
   "metadata": {
    "collapsed": true
   },
   "outputs": [],
   "source": [
    "import os\n",
    "import pandas as pd\n",
    "import numpy as np\n",
    "import math\n",
    "from matplotlib.pyplot import *\n",
    "import matplotlib.pyplot as plt\n",
    "from matplotlib import animation\n",
    "from matplotlib import cm\n"
   ]
  },
  {
   "cell_type": "code",
   "execution_count": 3,
   "metadata": {},
   "outputs": [
    {
     "data": {
      "text/html": [
       "<div>\n",
       "<style>\n",
       "    .dataframe thead tr:only-child th {\n",
       "        text-align: right;\n",
       "    }\n",
       "\n",
       "    .dataframe thead th {\n",
       "        text-align: left;\n",
       "    }\n",
       "\n",
       "    .dataframe tbody tr th {\n",
       "        vertical-align: top;\n",
       "    }\n",
       "</style>\n",
       "<table border=\"1\" class=\"dataframe\">\n",
       "  <thead>\n",
       "    <tr style=\"text-align: right;\">\n",
       "      <th></th>\n",
       "      <th>Id</th>\n",
       "      <th>Response</th>\n",
       "      <th>StartTime</th>\n",
       "      <th>EndTime</th>\n",
       "    </tr>\n",
       "  </thead>\n",
       "  <tbody>\n",
       "    <tr>\n",
       "      <th>0</th>\n",
       "      <td>4</td>\n",
       "      <td>0</td>\n",
       "      <td>82.24</td>\n",
       "      <td>87.29</td>\n",
       "    </tr>\n",
       "    <tr>\n",
       "      <th>1</th>\n",
       "      <td>6</td>\n",
       "      <td>0</td>\n",
       "      <td>1313.12</td>\n",
       "      <td>1315.75</td>\n",
       "    </tr>\n",
       "    <tr>\n",
       "      <th>2</th>\n",
       "      <td>7</td>\n",
       "      <td>0</td>\n",
       "      <td>1618.70</td>\n",
       "      <td>1624.42</td>\n",
       "    </tr>\n",
       "    <tr>\n",
       "      <th>3</th>\n",
       "      <td>9</td>\n",
       "      <td>0</td>\n",
       "      <td>1149.20</td>\n",
       "      <td>1154.16</td>\n",
       "    </tr>\n",
       "    <tr>\n",
       "      <th>4</th>\n",
       "      <td>11</td>\n",
       "      <td>0</td>\n",
       "      <td>602.64</td>\n",
       "      <td>606.02</td>\n",
       "    </tr>\n",
       "    <tr>\n",
       "      <th>5</th>\n",
       "      <td>13</td>\n",
       "      <td>0</td>\n",
       "      <td>1331.66</td>\n",
       "      <td>1339.73</td>\n",
       "    </tr>\n",
       "    <tr>\n",
       "      <th>6</th>\n",
       "      <td>14</td>\n",
       "      <td>0</td>\n",
       "      <td>1662.63</td>\n",
       "      <td>1664.04</td>\n",
       "    </tr>\n",
       "    <tr>\n",
       "      <th>7</th>\n",
       "      <td>16</td>\n",
       "      <td>0</td>\n",
       "      <td>791.22</td>\n",
       "      <td>804.36</td>\n",
       "    </tr>\n",
       "    <tr>\n",
       "      <th>8</th>\n",
       "      <td>18</td>\n",
       "      <td>0</td>\n",
       "      <td>517.64</td>\n",
       "      <td>518.08</td>\n",
       "    </tr>\n",
       "    <tr>\n",
       "      <th>9</th>\n",
       "      <td>23</td>\n",
       "      <td>0</td>\n",
       "      <td>156.27</td>\n",
       "      <td>157.89</td>\n",
       "    </tr>\n",
       "  </tbody>\n",
       "</table>\n",
       "</div>"
      ],
      "text/plain": [
       "   Id  Response  StartTime  EndTime\n",
       "0   4         0      82.24    87.29\n",
       "1   6         0    1313.12  1315.75\n",
       "2   7         0    1618.70  1624.42\n",
       "3   9         0    1149.20  1154.16\n",
       "4  11         0     602.64   606.02\n",
       "5  13         0    1331.66  1339.73\n",
       "6  14         0    1662.63  1664.04\n",
       "7  16         0     791.22   804.36\n",
       "8  18         0     517.64   518.08\n",
       "9  23         0     156.27   157.89"
      ]
     },
     "execution_count": 3,
     "metadata": {},
     "output_type": "execute_result"
    }
   ],
   "source": [
    "TEST_START_TIME      = \"../../data/test_StartEndTime.csv\"\n",
    "TRAIN_START_TIME     = \"../../data/train_StartEndTime.csv\"\n",
    "\n",
    "\n",
    "df_start_train = pd.read_csv(TRAIN_START_TIME)\n",
    "df_start_test  = pd.read_csv(TEST_START_TIME)\n",
    "\n",
    "df_start_train2 = df_start_train.dropna(axis=0).copy()\n",
    "df_start_test2  = df_start_test.dropna(axis=0).copy()\n",
    "\n",
    "df_start_train2.head(10)"
   ]
  },
  {
   "cell_type": "code",
   "execution_count": 4,
   "metadata": {},
   "outputs": [
    {
     "data": {
      "text/plain": [
       "array([   82.24,  1313.12,  1618.7 , ...,  1482.18,   608.83,   937.61])"
      ]
     },
     "execution_count": 4,
     "metadata": {},
     "output_type": "execute_result"
    }
   ],
   "source": [
    "df_start_train2['StartTime'].values"
   ]
  },
  {
   "cell_type": "markdown",
   "metadata": {},
   "source": [
    "<h3>開始時刻と終了時刻</h3>"
   ]
  },
  {
   "cell_type": "code",
   "execution_count": 5,
   "metadata": {},
   "outputs": [
    {
     "data": {
      "image/png": "[encoded data removed]",
      "text/plain": [
       "<matplotlib.figure.Figure at 0x1d1963c9160>"
      ]
     },
     "metadata": {},
     "output_type": "display_data"
    }
   ],
   "source": [
    "matplotlib.pyplot.rcParams['figure.figsize'] = (15.0, 8.0)\n",
    "\n",
    "plt.hist(df_start_train2['StartTime'].values, bins=2000, alpha=0.5, color='blue')\n",
    "plt.hist(df_start_test2['StartTime'].values,  bins=2000, alpha=0.5, color='green')\n",
    "plt.hist(df_start_train2['EndTime'].values, bins=2000, alpha=0.5, color='red')\n",
    "plt.hist(df_start_test2['EndTime'].values,  bins=2000, alpha=0.5, color='orange')\n",
    "\n",
    "plt.show()"
   ]
  },
  {
   "cell_type": "markdown",
   "metadata": {},
   "source": [
    "train, test の分布は重なっていて明確な偏りは観測できない。<br>\n",
    "同期間にサンプルされたものから、データを分割して出してきているか、\n",
    "別の期間だが期間の位相が完全に一致するように出してきているのではないか。<br>\n",
    "安直に考えると前者(のほうがこちらが都合がよい) <br>\n",
    "\n",
    "\n",
    "大きな余白が一か所。"
   ]
  },
  {
   "cell_type": "code",
   "execution_count": 6,
   "metadata": {},
   "outputs": [
    {
     "data": {
      "image/png": "[encoded data removed]",
      "text/plain": [
       "<matplotlib.figure.Figure at 0x1d195026828>"
      ]
     },
     "metadata": {},
     "output_type": "display_data"
    }
   ],
   "source": [
    "\n",
    "plt.hist(df_start_train2['StartTime'].values, bins=100, alpha=0.5, color='blue')\n",
    "plt.hist(df_start_test2['StartTime'].values,  bins=100, alpha=0.5, color='green')\n",
    "\n",
    "plt.show()"
   ]
  },
  {
   "cell_type": "markdown",
   "metadata": {},
   "source": [
    "マクロに数がみられるもの。"
   ]
  },
  {
   "cell_type": "markdown",
   "metadata": {},
   "source": [
    "<h3> 期間 </h3>"
   ]
  },
  {
   "cell_type": "code",
   "execution_count": 7,
   "metadata": {},
   "outputs": [
    {
     "data": {
      "image/png": "[encoded data removed]",
      "text/plain": [
       "<matplotlib.figure.Figure at 0x1d19a8cb5c0>"
      ]
     },
     "metadata": {},
     "output_type": "display_data"
    }
   ],
   "source": [
    "df_start_train2[\"Duration\"] = -1\n",
    "df_start_train2.loc[:, \"Duration\"] = df_start_train2['EndTime'] - df_start_train2['StartTime']\n",
    "df_start_test2['Duration'] = 0\n",
    "df_start_test2.loc[:, 'Duration'] = df_start_test2['EndTime'] - df_start_test2['StartTime']\n",
    "\n",
    "plt.hist(df_start_test2['Duration'].values,  bins=100, alpha=0.5, color='green', range=[0, 700])\n",
    "plt.hist(df_start_train2['Duration'].values, bins=100, alpha=0.5, color='red', range=[0, 700])\n",
    "plt.show()"
   ]
  },
  {
   "cell_type": "markdown",
   "metadata": {},
   "source": [
    "train, test の分布は完全に重なっている。"
   ]
  },
  {
   "cell_type": "code",
   "execution_count": 8,
   "metadata": {},
   "outputs": [
    {
     "data": {
      "text/plain": [
       "count    1.183165e+06\n",
       "mean     1.069801e+01\n",
       "std      1.704710e+01\n",
       "min      0.000000e+00\n",
       "25%      1.710000e+00\n",
       "50%      3.680000e+00\n",
       "75%      1.175000e+01\n",
       "max      6.623700e+02\n",
       "Name: Duration, dtype: float64"
      ]
     },
     "execution_count": 8,
     "metadata": {},
     "output_type": "execute_result"
    }
   ],
   "source": [
    "df_start_test2['Duration'].describe()"
   ]
  },
  {
   "cell_type": "code",
   "execution_count": 9,
   "metadata": {},
   "outputs": [
    {
     "data": {
      "text/plain": [
       "count    1.183165e+06\n",
       "mean     1.071842e+01\n",
       "std      1.701537e+01\n",
       "min      0.000000e+00\n",
       "25%      1.710000e+00\n",
       "50%      3.700000e+00\n",
       "75%      1.177000e+01\n",
       "max      6.992000e+02\n",
       "Name: Duration, dtype: float64"
      ]
     },
     "execution_count": 9,
     "metadata": {},
     "output_type": "execute_result"
    }
   ],
   "source": [
    "df_start_train2['Duration'].describe()"
   ]
  },
  {
   "cell_type": "markdown",
   "metadata": {},
   "source": [
    "大体のものは100以下で終わっているが、時間がやたらとかかっているものもある。"
   ]
  },
  {
   "cell_type": "markdown",
   "metadata": {},
   "source": [
    "### 開始時刻と結果\n",
    "\n",
    "開始時刻に対してOK製品の数量と、\n",
    "NG製品の数量をヒストグラムでプロット。\n",
    "OK製品のScale を0.05 にしている。\n",
    "\n",
    "おしなべて不良は発生しているが、特定の期間にやや多いようにも見える。"
   ]
  },
  {
   "cell_type": "code",
   "execution_count": 10,
   "metadata": {},
   "outputs": [
    {
     "data": {
      "image/png": "[encoded data removed]",
      "text/plain": [
       "<matplotlib.figure.Figure at 0x1d1a219d1d0>"
      ]
     },
     "metadata": {},
     "output_type": "display_data"
    }
   ],
   "source": [
    "df_train_ng = df_start_train2[df_start_train2['Response'] == 1]\n",
    "df_train_ok = df_start_train2[df_start_train2['Response'] == 0].sample(frac = 0.05)\n",
    "\n",
    "\n",
    "plt.hist(df_train_ng['StartTime'], bins=2000, alpha = 0.7, color='blue')\n",
    "plt.hist(df_train_ng['EndTime'], bins=2000,   alpha = 0.7, color='green')\n",
    "plt.hist(df_train_ok['StartTime'], bins=2000, alpha = 0.1, color='orange')\n",
    "plt.hist(df_train_ok['EndTime'], bins=2000,   alpha = 0.1, color='red')\n",
    "\n",
    "\n",
    "plt.show()\n"
   ]
  },
  {
   "cell_type": "markdown",
   "metadata": {},
   "source": [
    "### 期間と結果"
   ]
  },
  {
   "cell_type": "code",
   "execution_count": 13,
   "metadata": {},
   "outputs": [
    {
     "data": {
      "image/png": "[encoded data removed]",
      "text/plain": [
       "<matplotlib.figure.Figure at 0x1d198c2dc18>"
      ]
     },
     "metadata": {},
     "output_type": "display_data"
    }
   ],
   "source": [
    "df_train_ok = df_start_train2[df_start_train2['Response'] == 0]\n",
    "df_train_ng = df_start_train2[df_start_train2['Response'] == 1]\n",
    "\n",
    "plt.hist(df_train_ng['Duration'], bins=100, color='blue', range=[0, 700])\n",
    "plt.show()"
   ]
  },
  {
   "cell_type": "code",
   "execution_count": null,
   "metadata": {
    "collapsed": true
   },
   "outputs": [],
   "source": []
  },
  {
   "cell_type": "code",
   "execution_count": null,
   "metadata": {
    "collapsed": true
   },
   "outputs": [],
   "source": []
  },
  {
   "cell_type": "code",
   "execution_count": null,
   "metadata": {
    "collapsed": true
   },
   "outputs": [],
   "source": []
  }
 ],
 "metadata": {
  "kernelspec": {
   "display_name": "Python 3",
   "language": "python",
   "name": "python3"
  },
  "language_info": {
   "codemirror_mode": {
    "name": "ipython",
    "version": 3
   },
   "file_extension": ".py",
   "mimetype": "text/x-python",
   "name": "python",
   "nbconvert_exporter": "python",
   "pygments_lexer": "ipython3",
   "version": "3.6.3"
  }
 },
 "nbformat": 4,
 "nbformat_minor": 2
}
