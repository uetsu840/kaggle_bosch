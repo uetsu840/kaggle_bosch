{
 "cells": [
  {
   "cell_type": "markdown",
   "metadata": {},
   "source": [
    "引っ越し後一度も実行してない。<br>\n",
    "いけるはずではある。"
   ]
  },
  {
   "cell_type": "code",
   "execution_count": 3,
   "metadata": {
    "collapsed": true
   },
   "outputs": [],
   "source": [
    "import os\n",
    "import pandas as pd\n",
    "import numpy as np\n",
    "import math\n",
    "from matplotlib.pyplot import *\n",
    "import matplotlib.pyplot as plt\n",
    "from matplotlib import animation\n",
    "from matplotlib import cm\n",
    "from parse import *\n",
    "import seaborn as sns"
   ]
  },
  {
   "cell_type": "code",
   "execution_count": 4,
   "metadata": {
    "collapsed": true
   },
   "outputs": [],
   "source": [
    "CHUNKSIZE = 100000\n",
    "\n",
    "TRAIN_DATE        = \"../../data/train_date.csv\"\n",
    "TRAIN_NUMERIC     = \"../../data/train_numeric.csv\"\n",
    "TRAIN_CATEGORICAL = \"../../data/train_categorical.csv\"\n",
    "TEST_DATE         = \"../../data/test_date.csv\"\n",
    "TEST_NUMERIC      = \"../../data/test_numeric.csv\"\n",
    "TEST_CATEGORICAL  = \"../../data/test_categorical.csv\"\n",
    "\n",
    "SEED = 0\n",
    "CHUNKSIZE = 50000\n",
    "NROWS = 1200000\n",
    "\n",
    "ID_COLUMN = 'Id'\n",
    "TARGET_COLUMN = 'Response'\n",
    "    \n",
    "    \n",
    "    "
   ]
  },
  {
   "cell_type": "code",
   "execution_count": 5,
   "metadata": {
    "collapsed": true
   },
   "outputs": [],
   "source": [
    "chunk_train_date = pd.read_csv(TRAIN_DATE, nrows=NROWS, chunksize=CHUNKSIZE)\n",
    "chunk_test_date  = pd.read_csv(TEST_DATE, nrows=NROWS, chunksize=CHUNKSIZE)\n",
    "\n",
    "df_train_date = chunk_train_date.get_chunk(10)\n",
    "df_test_date  = chunk_test_date.get_chunk(10)\n"
   ]
  },
  {
   "cell_type": "code",
   "execution_count": 6,
   "metadata": {},
   "outputs": [
    {
     "data": {
      "text/html": [
       "<div>\n",
       "<style>\n",
       "    .dataframe thead tr:only-child th {\n",
       "        text-align: right;\n",
       "    }\n",
       "\n",
       "    .dataframe thead th {\n",
       "        text-align: left;\n",
       "    }\n",
       "\n",
       "    .dataframe tbody tr th {\n",
       "        vertical-align: top;\n",
       "    }\n",
       "</style>\n",
       "<table border=\"1\" class=\"dataframe\">\n",
       "  <thead>\n",
       "    <tr style=\"text-align: right;\">\n",
       "      <th></th>\n",
       "      <th>Id</th>\n",
       "      <th>L0_S0_D1</th>\n",
       "      <th>L0_S0_D3</th>\n",
       "      <th>L0_S0_D5</th>\n",
       "      <th>L0_S0_D7</th>\n",
       "      <th>L0_S0_D9</th>\n",
       "      <th>L0_S0_D11</th>\n",
       "      <th>L0_S0_D13</th>\n",
       "      <th>L0_S0_D15</th>\n",
       "      <th>L0_S0_D17</th>\n",
       "      <th>...</th>\n",
       "      <th>L3_S50_D4246</th>\n",
       "      <th>L3_S50_D4248</th>\n",
       "      <th>L3_S50_D4250</th>\n",
       "      <th>L3_S50_D4252</th>\n",
       "      <th>L3_S50_D4254</th>\n",
       "      <th>L3_S51_D4255</th>\n",
       "      <th>L3_S51_D4257</th>\n",
       "      <th>L3_S51_D4259</th>\n",
       "      <th>L3_S51_D4261</th>\n",
       "      <th>L3_S51_D4263</th>\n",
       "    </tr>\n",
       "  </thead>\n",
       "  <tbody>\n",
       "    <tr>\n",
       "      <th>0</th>\n",
       "      <td>4</td>\n",
       "      <td>82.24</td>\n",
       "      <td>82.24</td>\n",
       "      <td>82.24</td>\n",
       "      <td>82.24</td>\n",
       "      <td>82.24</td>\n",
       "      <td>82.24</td>\n",
       "      <td>82.24</td>\n",
       "      <td>82.24</td>\n",
       "      <td>82.24</td>\n",
       "      <td>...</td>\n",
       "      <td>NaN</td>\n",
       "      <td>NaN</td>\n",
       "      <td>NaN</td>\n",
       "      <td>NaN</td>\n",
       "      <td>NaN</td>\n",
       "      <td>NaN</td>\n",
       "      <td>NaN</td>\n",
       "      <td>NaN</td>\n",
       "      <td>NaN</td>\n",
       "      <td>NaN</td>\n",
       "    </tr>\n",
       "    <tr>\n",
       "      <th>1</th>\n",
       "      <td>6</td>\n",
       "      <td>NaN</td>\n",
       "      <td>NaN</td>\n",
       "      <td>NaN</td>\n",
       "      <td>NaN</td>\n",
       "      <td>NaN</td>\n",
       "      <td>NaN</td>\n",
       "      <td>NaN</td>\n",
       "      <td>NaN</td>\n",
       "      <td>NaN</td>\n",
       "      <td>...</td>\n",
       "      <td>NaN</td>\n",
       "      <td>NaN</td>\n",
       "      <td>NaN</td>\n",
       "      <td>NaN</td>\n",
       "      <td>NaN</td>\n",
       "      <td>NaN</td>\n",
       "      <td>NaN</td>\n",
       "      <td>NaN</td>\n",
       "      <td>NaN</td>\n",
       "      <td>NaN</td>\n",
       "    </tr>\n",
       "    <tr>\n",
       "      <th>2</th>\n",
       "      <td>7</td>\n",
       "      <td>1618.70</td>\n",
       "      <td>1618.70</td>\n",
       "      <td>1618.70</td>\n",
       "      <td>1618.70</td>\n",
       "      <td>1618.70</td>\n",
       "      <td>1618.70</td>\n",
       "      <td>1618.70</td>\n",
       "      <td>1618.70</td>\n",
       "      <td>1618.70</td>\n",
       "      <td>...</td>\n",
       "      <td>NaN</td>\n",
       "      <td>NaN</td>\n",
       "      <td>NaN</td>\n",
       "      <td>NaN</td>\n",
       "      <td>NaN</td>\n",
       "      <td>NaN</td>\n",
       "      <td>NaN</td>\n",
       "      <td>NaN</td>\n",
       "      <td>NaN</td>\n",
       "      <td>NaN</td>\n",
       "    </tr>\n",
       "    <tr>\n",
       "      <th>3</th>\n",
       "      <td>9</td>\n",
       "      <td>1149.20</td>\n",
       "      <td>1149.20</td>\n",
       "      <td>1149.20</td>\n",
       "      <td>1149.20</td>\n",
       "      <td>1149.20</td>\n",
       "      <td>1149.20</td>\n",
       "      <td>1149.20</td>\n",
       "      <td>1149.20</td>\n",
       "      <td>1149.20</td>\n",
       "      <td>...</td>\n",
       "      <td>NaN</td>\n",
       "      <td>NaN</td>\n",
       "      <td>NaN</td>\n",
       "      <td>NaN</td>\n",
       "      <td>NaN</td>\n",
       "      <td>NaN</td>\n",
       "      <td>NaN</td>\n",
       "      <td>NaN</td>\n",
       "      <td>NaN</td>\n",
       "      <td>NaN</td>\n",
       "    </tr>\n",
       "    <tr>\n",
       "      <th>4</th>\n",
       "      <td>11</td>\n",
       "      <td>602.64</td>\n",
       "      <td>602.64</td>\n",
       "      <td>602.64</td>\n",
       "      <td>602.64</td>\n",
       "      <td>602.64</td>\n",
       "      <td>602.64</td>\n",
       "      <td>602.64</td>\n",
       "      <td>602.64</td>\n",
       "      <td>602.64</td>\n",
       "      <td>...</td>\n",
       "      <td>NaN</td>\n",
       "      <td>NaN</td>\n",
       "      <td>NaN</td>\n",
       "      <td>NaN</td>\n",
       "      <td>NaN</td>\n",
       "      <td>NaN</td>\n",
       "      <td>NaN</td>\n",
       "      <td>NaN</td>\n",
       "      <td>NaN</td>\n",
       "      <td>NaN</td>\n",
       "    </tr>\n",
       "  </tbody>\n",
       "</table>\n",
       "<p>5 rows × 1157 columns</p>\n",
       "</div>"
      ],
      "text/plain": [
       "   Id  L0_S0_D1  L0_S0_D3  L0_S0_D5  L0_S0_D7  L0_S0_D9  L0_S0_D11  L0_S0_D13  \\\n",
       "0   4     82.24     82.24     82.24     82.24     82.24      82.24      82.24   \n",
       "1   6       NaN       NaN       NaN       NaN       NaN        NaN        NaN   \n",
       "2   7   1618.70   1618.70   1618.70   1618.70   1618.70    1618.70    1618.70   \n",
       "3   9   1149.20   1149.20   1149.20   1149.20   1149.20    1149.20    1149.20   \n",
       "4  11    602.64    602.64    602.64    602.64    602.64     602.64     602.64   \n",
       "\n",
       "   L0_S0_D15  L0_S0_D17      ...       L3_S50_D4246  L3_S50_D4248  \\\n",
       "0      82.24      82.24      ...                NaN           NaN   \n",
       "1        NaN        NaN      ...                NaN           NaN   \n",
       "2    1618.70    1618.70      ...                NaN           NaN   \n",
       "3    1149.20    1149.20      ...                NaN           NaN   \n",
       "4     602.64     602.64      ...                NaN           NaN   \n",
       "\n",
       "   L3_S50_D4250  L3_S50_D4252  L3_S50_D4254  L3_S51_D4255  L3_S51_D4257  \\\n",
       "0           NaN           NaN           NaN           NaN           NaN   \n",
       "1           NaN           NaN           NaN           NaN           NaN   \n",
       "2           NaN           NaN           NaN           NaN           NaN   \n",
       "3           NaN           NaN           NaN           NaN           NaN   \n",
       "4           NaN           NaN           NaN           NaN           NaN   \n",
       "\n",
       "   L3_S51_D4259  L3_S51_D4261  L3_S51_D4263  \n",
       "0           NaN           NaN           NaN  \n",
       "1           NaN           NaN           NaN  \n",
       "2           NaN           NaN           NaN  \n",
       "3           NaN           NaN           NaN  \n",
       "4           NaN           NaN           NaN  \n",
       "\n",
       "[5 rows x 1157 columns]"
      ]
     },
     "execution_count": 6,
     "metadata": {},
     "output_type": "execute_result"
    }
   ],
   "source": [
    "df_train_date.head()"
   ]
  },
  {
   "cell_type": "code",
   "execution_count": 7,
   "metadata": {
    "collapsed": true
   },
   "outputs": [],
   "source": [
    "STATION_NUM = 52\n",
    "station_line_list = [-999 for i in range(STATION_NUM)]\n",
    "unique_col_list = ['Id']\n",
    "cols = df_train_date.columns\n",
    "\n",
    "for column_name in cols:\n",
    "    if column_name != 'Id':\n",
    "        r = parse(\"L{}_S{}_{}\", column_name)\n",
    "        line_id    = int(r[0])\n",
    "        station_id = int(r[1])\n",
    "        if (-999 == station_line_list[station_id]):\n",
    "            station_line_list[station_id] = line_id\n",
    "            unique_col_list.append(column_name)\n",
    "        elif (line_id != station_line_list[station_id]):\n",
    "            print('★★★ERR')\n",
    "\n",
    "            \n",
    "    "
   ]
  },
  {
   "cell_type": "code",
   "execution_count": 8,
   "metadata": {},
   "outputs": [
    {
     "name": "stdout",
     "output_type": "stream",
     "text": [
      "[0, 0, 0, 0, 0, 0, 0, 0, 0, 0, 0, 0, 0, 0, 0, 0, 0, 0, 0, 0, 0, 0, 0, 0, 1, 1, 2, 2, 2, 3, 3, 3, 3, 3, 3, 3, 3, 3, 3, 3, 3, 3, 3, 3, 3, 3, 3, 3, 3, 3, 3, 3]\n",
      "['Id', 'L0_S0_D1', 'L0_S1_D26', 'L0_S2_D34', 'L0_S3_D70', 'L0_S4_D106', 'L0_S5_D115', 'L0_S6_D120', 'L0_S7_D137', 'L0_S8_D145', 'L0_S9_D152', 'L0_S10_D216', 'L0_S11_D280', 'L0_S12_D331', 'L0_S13_D355', 'L0_S14_D360', 'L0_S15_D395', 'L0_S16_D423', 'L0_S17_D432', 'L0_S18_D437', 'L0_S19_D454', 'L0_S20_D462', 'L0_S21_D469', 'L0_S22_D543', 'L0_S23_D617', 'L1_S24_D677', 'L1_S25_D1854', 'L2_S26_D3037', 'L2_S27_D3130', 'L2_S28_D3223', 'L3_S29_D3316', 'L3_S30_D3496', 'L3_S31_D3836', 'L3_S32_D3852', 'L3_S33_D3856', 'L3_S34_D3875', 'L3_S35_D3886', 'L3_S36_D3919', 'L3_S37_D3942', 'L3_S38_D3953', 'L3_S39_D3966', 'L3_S40_D3981', 'L3_S41_D3997', 'L3_S42_D4029', 'L3_S43_D4062', 'L3_S44_D4101', 'L3_S45_D4125', 'L3_S46_D4135', 'L3_S47_D4140', 'L3_S48_D4194', 'L3_S49_D4208', 'L3_S50_D4242', 'L3_S51_D4255']\n"
     ]
    }
   ],
   "source": [
    "print(station_line_list)\n",
    "print(unique_col_list)"
   ]
  },
  {
   "cell_type": "markdown",
   "metadata": {},
   "source": [
    "STATION_ID だけで STATION が特定できることがわかった。\n",
    "(同一のSTATION_ID が異なる LINE に複数含まれることはない)"
   ]
  },
  {
   "cell_type": "code",
   "execution_count": 9,
   "metadata": {
    "collapsed": true
   },
   "outputs": [],
   "source": [
    "df_train_bin = pd.read_csv(TRAIN_DATE, usecols=unique_col_list, nrows=NROWS)\n",
    "df_test_bin  = pd.read_csv(TEST_DATE,  usecols=unique_col_list, nrows=NROWS)"
   ]
  },
  {
   "cell_type": "code",
   "execution_count": 11,
   "metadata": {
    "collapsed": true
   },
   "outputs": [],
   "source": [
    "def encode_path_info(val):\n",
    "    if np.isnan(val):\n",
    "        return 0\n",
    "    else:\n",
    "        return 1\n",
    "\n",
    "for col in unique_col_list:\n",
    "    if 'Id' != col:\n",
    "        df_train_bin[col] = df_train_bin[col].apply(lambda x:encode_path_info(x))\n",
    "        df_test_bin[col]  = df_test_bin[col].apply(lambda x:encode_path_info(x))\n"
   ]
  },
  {
   "cell_type": "code",
   "execution_count": 12,
   "metadata": {
    "collapsed": true
   },
   "outputs": [],
   "source": [
    "# 保存する。\n",
    "\n",
    "df_train_bin.to_csv(\"../../data/train_StationPathInfo.csv\", index=False)\n",
    "df_test_bin.to_csv(\"../../data/test_StationPathInfo.csv\", index=False)"
   ]
  },
  {
   "cell_type": "code",
   "execution_count": 13,
   "metadata": {
    "collapsed": true
   },
   "outputs": [],
   "source": [
    "df_train = pd.read_csv(TRAIN_DATE, usecols=unique_col_list, nrows=NROWS)\n",
    "df_test  = pd.read_csv(TEST_DATE,  usecols=unique_col_list, nrows=NROWS)\n"
   ]
  },
  {
   "cell_type": "code",
   "execution_count": 21,
   "metadata": {
    "collapsed": true
   },
   "outputs": [],
   "source": [
    "def encode_path_info_w(val, col_idx):\n",
    "    if np.isnan(val):\n",
    "        return 0\n",
    "    else:\n",
    "        return 1 << col_idx\n",
    "\n",
    "col_idx = 0\n",
    "for col in unique_col_list:\n",
    "    if ('Id' != col):\n",
    "        df_train[col] = df_train[col].apply(lambda x:encode_path_info_w(x, col_idx))\n",
    "        col_idx += 1\n",
    "      "
   ]
  },
  {
   "cell_type": "code",
   "execution_count": 22,
   "metadata": {
    "collapsed": true,
    "scrolled": true
   },
   "outputs": [],
   "source": [
    "sum_col_list = [name for name in unique_col_list if name != 'Id']\n",
    "df_train['route_sum'] = df_train[sum_col_list].sum(axis=1)  \n"
   ]
  },
  {
   "cell_type": "code",
   "execution_count": 23,
   "metadata": {},
   "outputs": [
    {
     "name": "stdout",
     "output_type": "stream",
     "text": [
      "1\n"
     ]
    }
   ],
   "source": [
    "unique_path_list = df_train['route_sum'].unique()\n",
    "print(unique_path_list.size)\n"
   ]
  },
  {
   "cell_type": "code",
   "execution_count": 24,
   "metadata": {
    "collapsed": true
   },
   "outputs": [],
   "source": [
    "# 保存する。\n",
    "\n",
    "df_train.to_csv(\"../../data/train_StationPathInfoEx.csv\", index=False)\n",
    "df_test.to_csv(\"../../data/test_StationPathInfoEx.csv\", index=False)"
   ]
  },
  {
   "cell_type": "code",
   "execution_count": null,
   "metadata": {
    "collapsed": true
   },
   "outputs": [],
   "source": []
  },
  {
   "cell_type": "code",
   "execution_count": null,
   "metadata": {
    "collapsed": true
   },
   "outputs": [],
   "source": []
  },
  {
   "cell_type": "code",
   "execution_count": null,
   "metadata": {
    "collapsed": true
   },
   "outputs": [],
   "source": []
  }
 ],
 "metadata": {
  "kernelspec": {
   "display_name": "Python 3",
   "language": "python",
   "name": "python3"
  },
  "language_info": {
   "codemirror_mode": {
    "name": "ipython",
    "version": 3
   },
   "file_extension": ".py",
   "mimetype": "text/x-python",
   "name": "python",
   "nbconvert_exporter": "python",
   "pygments_lexer": "ipython3",
   "version": "3.6.3"
  }
 },
 "nbformat": 4,
 "nbformat_minor": 2
}
