{
 "cells": [
  {
   "cell_type": "code",
   "execution_count": 1,
   "metadata": {
    "collapsed": true
   },
   "outputs": [],
   "source": [
    "import os\n",
    "import pandas as pd\n",
    "import numpy as np\n",
    "import math\n",
    "from matplotlib.pyplot import *\n",
    "import matplotlib.pyplot as plt\n",
    "from matplotlib import animation\n",
    "from matplotlib import cm\n",
    "from sklearn.cluster import KMeans\n",
    "from sklearn.neighbors import KNeighborsClassifier\n",
    "from dateutil import parser\n",
    "import io\n",
    "import base64\n",
    "from IPython.display import HTML\n",
    "from imblearn.under_sampling import RandomUnderSampler\n",
    "from sklearn.model_selection import train_test_split\n",
    "from sklearn.ensemble import RandomForestClassifier\n"
   ]
  },
  {
   "cell_type": "code",
   "execution_count": 2,
   "metadata": {},
   "outputs": [
    {
     "name": "stderr",
     "output_type": "stream",
     "text": [
      "C:\\Users\\Tomonobu\\Anaconda3\\lib\\site-packages\\ipykernel\\zmqshell.py:533: DtypeWarning: Columns (1,2,3,4,5,6,7,8,9,10,11,12,13,14,15,16,17,18,19,20,21,22,41,42,43,44,45,46,57,58,59,60,61,62,63,64,65,66,67,68,69,70,71,72,73,74,75,76,77,78,79,80,81,82,83,84,85,86,87,88,89,90,91,92,93,94,95,96,97,98,99,100,101,102,103,104,105,106,107,108,109,110,111,112,113,114,115,116,117,118,119,120,121,122,123,124,125,126,127,128,129,130,131,132,133,134,161,162,163,164,165,166,167,168,169,170,171,172,173,174,175,176,177,178,188,189,190,191,192,193,204,205,206,207,208,209,210,211,212,213,214,215,216,217,218,219,220,221,222,223,224,225,226,227,228,229,230,231,232,233,234,235,236,237,238,239,240,241,242,243,244,245,246,247,248,249,250,251,252,253,254,255,256,257,258,259,260,261,262,263,264,265,266,267,268,269,270,271,272,273,274,275,276,277,278,279,280,281,282,283,284,285,286,287,288,289,290,291,292,293,324,335,337,340,342,344,346,348,351,354,357,360,363,366,369,372,375,378,381,384,387,390,393,396,399,402,406,407,408,409,410,411,412,413,414,415,416,417,418,419,420,421,422,423,424,425,426,427,428,429,430,431,432,433,434,435,436,437,438,439,440,441,442,443,444,445,446,447,448,449,450,451,452,453,454,455,456,457,458,459,460,461,462,464,467,470,473,476,479,482,485,488,491,494,497,500,503,506,509,512,515,518,549,597,611,614,617,620,623,626,629,632,635,638,641,644,647,650,653,656,659,662,665,668,671,674,677,680,683,686,689,692,695,698,701,704,707,710,713,716,719,722,808,810,812,814,816,818,819,821,822,824,825,827,828,830,831,833,834,836,842,844,845,847,848,850,851,853,854,856,857,859,860,862,863,865,866,868,869,871,872,874,875,877,878,880,881,883,884,886,887,889,890,892,893,895,896,898,956,957,958,959,960,961,962,963,964,965,966,967,968,969,970,971,972,973,974,975,976,977,978,979,980,981,982,998,1005,1007,1008,1010,1011,1013,1014,1016,1017,1019,1020,1022,1023,1025,1026,1028,1029,1031,1032,1034,1035,1037,1038,1040,1041,1043,1044,1046,1047,1049,1050,1052,1053,1054,1055,1056,1057,1058,1059,1060,1061,1062,1063,1064,1065,1066,1067,1068,1069,1070,1071,1072,1073,1074,1075,1076,1077,1078,1079,1080,1081,1082,1083,1084,1085,1086,1087,1088,1089,1090,1091,1092,1093,1094,1095,1096,1097,1098,1099,1100,1126,1129,1132,1135,1138,1141,1144,1147,1149,1150,1152,1153,1154,1155,1156,1157,1158,1159,1160,1161,1162,1163,1164,1183,1184,1185,1186,1187,1188,1189,1190,1191,1192,1193,1194,1195,1196,1197,1198,1199,1200,1201,1202,1203,1204,1205,1206,1207,1208,1209,1210,1211,1212,1213,1214,1215,1216,1217,1218,1219,1220,1221,1222,1223,1224,1225,1226,1227,1228,1229,1230,1231,1232,1233,1234,1235,1236,1237,1238,1239,1240,1241,1242,1243,1244,1245,1246,1247,1248,1249,1250,1251,1252,1253,1254,1255,1256,1257,1258,1259,1260,1261,1262,1263,1264,1265,1266,1267,1268,1269,1270,1271,1272,1273,1274,1275,1276,1277,1278,1279,1288,1289,1290,1291,1292,1293,1294,1295,1296,1297,1298,1300,1303,1306,1309,1312,1315,1318,1321,1324,1327,1330,1333,1336,1339,1342,1345,1348,1351,1354,1357,1360,1363,1366,1369,1372,1375,1378,1381,1384,1387,1390,1393,1419,1420,1421,1422,1423,1424,1425,1426,1427,1428,1429,1431,1434,1437,1440,1443,1446,1449,1452,1455,1458,1461,1464,1467,1470,1473,1476,1479,1482,1485,1488,1491,1494,1497,1500,1503,1506,1509,1512,1515,1518,1521,1524,1527,1530,1533,1536,1539,1542,1545,1548,1550,1552,1554,1556,1558,1560,1562,1564,1566,1568,1570,1572,1574,1576,1578,1580,1582,1584,1586,1589,1591,1593,1595,1597,1599,1601,1603,1605,1607,1609,1611,1613,1615,1617,1619,1621,1623,1625,1627,1629,1631,1633,1635,1637,1639,1642,1644,1646,1648,1650,1652,1654,1656,1657,1658,1659,1660,1661,1662,1663,1664,1665,1666,1667,1668,1669,1670,1671,1672,1673,1674,1675,1676,1677,1678,1679,1680,1681,1682,1683,1684,1685,1686,1687,1688,1689,1690,1691,1692,1693,1694,1695,1696,1697,1698,1699,1700,1701,1702,1703,1704,1705,1706,1707,1708,1709,1977,1978,1979,1980,1981,1982,1983,1984,1985,1986,1987,1994,1996,1997,1999,2000,2002,2003,2005,2028,2030,2031,2033,2034,2036,2037,2039,2052,2054,2055,2057,2058,2060,2061,2063,2064,2066,2067,2069,2070,2072,2073,2075,2076,2077,2078,2079,2080,2081,2082,2083,2120,2121,2122,2123,2124,2125,2126,2127,2128,2129,2130,2131,2132,2133,2134,2135,2136,2137,2138,2139,2140) have mixed types. Specify dtype option on import or set low_memory=False.\n",
      "  return super(ZMQInteractiveShell, self).run_cell(*args, **kwargs)\n"
     ]
    }
   ],
   "source": [
    "chunk_size = 100000\n",
    "\n",
    "chunk_num_train = pd.read_csv(\"../../data/train_numeric.csv\",     chunksize = chunk_size)\n",
    "chunk_dat_train = pd.read_csv(\"../../data/train_date.csv\"   ,     chunksize = chunk_size)\n",
    "chunk_cat_train = pd.read_csv(\"../../data/train_categorical.csv\", chunksize = chunk_size)\n",
    "\n",
    "df_num_train = chunk_num_train.get_chunk(chunk_size)\n",
    "df_dat_train = chunk_dat_train.get_chunk(chunk_size)\n",
    "df_cat_train = chunk_cat_train.get_chunk(chunk_size)"
   ]
  },
  {
   "cell_type": "markdown",
   "metadata": {},
   "source": [
    " \n",
    "OKデータをアンダーサンプリングする"
   ]
  },
  {
   "cell_type": "code",
   "execution_count": 3,
   "metadata": {},
   "outputs": [
    {
     "name": "stdout",
     "output_type": "stream",
     "text": [
      "before(100000, 970)\n",
      "after(100000, 970)\n"
     ]
    }
   ],
   "source": [
    "# 全部 NaN な列をdropして、Nanを大きな値で置換。\n",
    "print(\"before\" + str(df_num_train.shape))\n",
    "df_num_train.dropna(how='all', axis=1, inplace=True)\n",
    "df_num_train.fillna(999, inplace=True)\n",
    "print(\"after\" + str(df_num_train.shape))"
   ]
  },
  {
   "cell_type": "code",
   "execution_count": 4,
   "metadata": {
    "collapsed": true,
    "scrolled": false
   },
   "outputs": [],
   "source": [
    "df_num, df_validation = train_test_split(df_num_train)"
   ]
  },
  {
   "cell_type": "markdown",
   "metadata": {},
   "source": [
    "カテゴリカルデータも対応するIDだけ残す"
   ]
  },
  {
   "cell_type": "code",
   "execution_count": 5,
   "metadata": {
    "collapsed": true
   },
   "outputs": [],
   "source": [
    "# カテゴリ変数のパース(仮実装で、値に変換するだけ)\n",
    "# 最終的にはビットマップっぽいので、エンコーディングする。\n",
    "from parse import *\n",
    "def cat_data_to_val(x):\n",
    "    if type(x) is str:\n",
    "        r = parse(\"T{}\", x)\n",
    "        return float(r[0])\n",
    "    else:\n",
    "        return x\n"
   ]
  },
  {
   "cell_type": "code",
   "execution_count": 6,
   "metadata": {
    "collapsed": true
   },
   "outputs": [],
   "source": [
    "\n",
    "def is_bit_on(s, pos):\n",
    "    if type(s) is str:\n",
    "        r = parse(\"T{}\", s)\n",
    "        val = (int(r[0]))\n",
    "        mask = 1 << pos\n",
    "        if val & mask:\n",
    "            return 1\n",
    "        else:\n",
    "            return 0\n",
    "    else:\n",
    "        return 0"
   ]
  },
  {
   "cell_type": "code",
   "execution_count": null,
   "metadata": {
    "collapsed": true
   },
   "outputs": [],
   "source": [
    "def decode_categorical_data(df):\n",
    "    for column_name, item in df.iteritems():\n",
    "        if column_name != 'Id':\n",
    "            vallist = item.unique()\n",
    "            bitlist = []\n",
    "            for c in vallist:\n",
    "                if type(c) is str:\n",
    "                    r = parse(\"T{}\", c)\n",
    "                    val = int(r[0])\n",
    "                    if val < 0:\n",
    "                        val = val + 4294967296\n",
    "                    for bitpos in range(0, 32):                        \n",
    "                        mask = 1 << bitpos\n",
    "                        if val & mask: \n",
    "                            if (bitpos not in bitlist):\n",
    "                                bitlist.append(bitpos)\n",
    "\n",
    "            for bit in bitlist:\n",
    "                df[column_name + \"_bit_\" + str(bit)] = df[column_name].apply(lambda x:is_bit_on(x, bit)).astype('int8')\n",
    "            df.drop(column_name, axis=1, inplace=True)\n",
    "\n",
    "    "
   ]
  },
  {
   "cell_type": "code",
   "execution_count": null,
   "metadata": {
    "collapsed": true
   },
   "outputs": [],
   "source": [
    "decode_categorical_data(df_cat_train)"
   ]
  },
  {
   "cell_type": "code",
   "execution_count": null,
   "metadata": {},
   "outputs": [],
   "source": [
    "df_num_ok = df_num[df_num['Response'] == 0]\n",
    "df_num_ng = df_num[df_num['Response'] == 1]\n",
    "\n",
    "undersample_rate = len(df_num_ng) * 20 / len(df_num_ok)\n",
    "df_num_ok_sample = df_num_ok.sample(frac = undersample_rate)\n",
    "\n",
    "df_num_balance = pd.concat([df_num_ok_sample, df_num_ng])\n",
    "print('Response = 0のテーブル', df_num_ok.shape)\n",
    "print('Response = 1のテーブル', df_num_ng.shape)\n",
    "print('Response = 0をアンダーサンプルした後のフレーム', df_num_balance.shape)"
   ]
  },
  {
   "cell_type": "code",
   "execution_count": null,
   "metadata": {},
   "outputs": [],
   "source": [
    "df_cat_train.columns"
   ]
  },
  {
   "cell_type": "code",
   "execution_count": null,
   "metadata": {
    "collapsed": true
   },
   "outputs": [],
   "source": [
    "df_train = pd.merge(df_num_balance, df_cat_train, on=['Id'], how = 'left')\n",
    "df_test  = pd.merge(df_validation, df_cat_train, on=['Id'], how = 'left')\n"
   ]
  },
  {
   "cell_type": "code",
   "execution_count": null,
   "metadata": {},
   "outputs": [],
   "source": [
    "print(df_train[df_train.isnull().any(axis=1)])"
   ]
  },
  {
   "cell_type": "code",
   "execution_count": null,
   "metadata": {},
   "outputs": [],
   "source": [
    "import xgboost as xgb\n",
    "\n",
    "\n",
    "def separate_X_y(df):\n",
    "    X = df.drop(['Response'], axis=1)\n",
    "    y = df['Response']\n",
    "    return X, y\n",
    "\n",
    " "
   ]
  },
  {
   "cell_type": "code",
   "execution_count": null,
   "metadata": {
    "collapsed": true
   },
   "outputs": [],
   "source": [
    "\n",
    "\n",
    "def train_with_r_forest(df):\n",
    "    X_train, y_train = separate_X_y(df)\n",
    "\n",
    "    cl_weight = {0:0.3, 1:0.7}\n",
    "    \n",
    "    rf = RandomForestClassifier(max_depth=100,n_estimators=200)\n",
    "    rf.fit(X_train, y_train)\n",
    "    return rf\n",
    "\n",
    "\n",
    "\n"
   ]
  },
  {
   "cell_type": "code",
   "execution_count": null,
   "metadata": {},
   "outputs": [],
   "source": [
    "rf = train_with_r_forest(df_train)\n",
    "X_test, y_test = separate_X_y(df_test)\n",
    "y_pred = rf.predict(X_test)\n",
    "y_pred"
   ]
  },
  {
   "cell_type": "code",
   "execution_count": null,
   "metadata": {},
   "outputs": [],
   "source": [
    "\n",
    "from sklearn.metrics import confusion_matrix\n",
    "cf_mat = confusion_matrix(y_test, y_pred)\n",
    "cf_mat"
   ]
  },
  {
   "cell_type": "code",
   "execution_count": null,
   "metadata": {},
   "outputs": [],
   "source": [
    "def calc_mcc(cf_mat):\n",
    "    tn, fp, fn, tp = cf_mat.ravel()\n",
    "    print(tn, fp, fn, tp)\n",
    "    mcc = (tp * tn - fp * fn) / np.sqrt((tp + fp) * (tp + fn) * (tn + fp) * (tn + fn))\n",
    "    return mcc\n",
    "\n",
    "mcc = calc_mcc(cf_mat)\n",
    "print(mcc)\n",
    "    "
   ]
  },
  {
   "cell_type": "code",
   "execution_count": null,
   "metadata": {
    "scrolled": true
   },
   "outputs": [],
   "source": [
    "def plot_feature_importance(clf, df):\n",
    "    #特徴量の重要度\n",
    "    feature = clf.feature_importances_\n",
    "\n",
    "    #特徴量の重要度を上から順に出力する\n",
    "    f = pd.DataFrame({'number': range(0, len(feature)),\n",
    "                 'feature': feature[:], 'name':''})\n",
    "    f2 = f.sort_values('feature',ascending=False)\n",
    "    f3 = f2.ix[:, 'number']\n",
    "\n",
    "    #特徴量の名前\n",
    "    label = df.columns[0:]\n",
    "\n",
    "    #特徴量の重要度順（降順）\n",
    "    indices = np.argsort(feature)[::-1]\n",
    "\n",
    "    for i in range(len(feature)):\n",
    "        print(str(i + 1) + \"   \" + str(label[indices[i]]) + \"   \" + str(feature[indices[i]]))\n",
    "        f2.iloc[i, 1]  = str(label[indices[i]])\n",
    "\n",
    "    plt.title('Feature Importance')\n",
    "    plt.bar(range(len(feature)),feature[indices], color='lightblue', align='center')\n",
    "    plt.xticks(range(len(feature)), label[indices], rotation=90)\n",
    "    plt.xlim([-1, len(feature)])\n",
    "    plt.tight_layout()\n",
    "    plt.show()\n",
    "    \n",
    "    return f2\n",
    "\n",
    "\n",
    "f_importance = plot_feature_importance(rf, df_train)\n",
    "f_importance.to_csv(\"../../data/bosch_0620_features.csv\", index=False)"
   ]
  },
  {
   "cell_type": "code",
   "execution_count": null,
   "metadata": {},
   "outputs": [],
   "source": [
    "df_desc.loc['max', np.isnan(df_desc.loc['max', :])]"
   ]
  },
  {
   "cell_type": "code",
   "execution_count": null,
   "metadata": {
    "collapsed": true
   },
   "outputs": [],
   "source": [
    "\n",
    "\n",
    "\n",
    "from sklearn.metrics import matthews_corrcoef\n",
    "matthew_scorer = make_scorer(matthews_corrcoef)\n",
    "scores = cross_val_score(clf, X, y, cv=5, scoring=matthew_scorer)"
   ]
  },
  {
   "cell_type": "code",
   "execution_count": null,
   "metadata": {
    "collapsed": true
   },
   "outputs": [],
   "source": [
    "df_cat"
   ]
  },
  {
   "cell_type": "code",
   "execution_count": null,
   "metadata": {
    "collapsed": true
   },
   "outputs": [],
   "source": [
    "df_num"
   ]
  },
  {
   "cell_type": "code",
   "execution_count": null,
   "metadata": {
    "collapsed": true
   },
   "outputs": [],
   "source": []
  },
  {
   "cell_type": "code",
   "execution_count": null,
   "metadata": {
    "collapsed": true
   },
   "outputs": [],
   "source": []
  },
  {
   "cell_type": "code",
   "execution_count": null,
   "metadata": {
    "collapsed": true
   },
   "outputs": [],
   "source": []
  }
 ],
 "metadata": {
  "kernelspec": {
   "display_name": "Python 3",
   "language": "python",
   "name": "python3"
  },
  "language_info": {
   "codemirror_mode": {
    "name": "ipython",
    "version": 3
   },
   "file_extension": ".py",
   "mimetype": "text/x-python",
   "name": "python",
   "nbconvert_exporter": "python",
   "pygments_lexer": "ipython3",
   "version": "3.6.3"
  }
 },
 "nbformat": 4,
 "nbformat_minor": 2
}
