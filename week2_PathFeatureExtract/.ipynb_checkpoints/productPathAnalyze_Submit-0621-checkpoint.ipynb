{
 "cells": [
  {
   "cell_type": "markdown",
   "metadata": {},
   "source": [
    "時間がかかるので引っ越し後にやってない。<br>\n",
    "いけるはず…"
   ]
  },
  {
   "cell_type": "code",
   "execution_count": 1,
   "metadata": {
    "collapsed": true
   },
   "outputs": [],
   "source": [
    "import os\n",
    "import pandas as pd\n",
    "import numpy as np\n",
    "import math\n",
    "from matplotlib.pyplot import *\n",
    "import matplotlib.pyplot as plt\n",
    "from matplotlib import animation\n",
    "from matplotlib import cm\n",
    "from parse import *\n",
    "import seaborn as sns"
   ]
  },
  {
   "cell_type": "code",
   "execution_count": 2,
   "metadata": {
    "collapsed": true
   },
   "outputs": [],
   "source": [
    "CHUNKSIZE = 100000\n",
    "\n",
    "TRAIN_PATH        = \"../../data/train_StationPathInfo.csv\"\n",
    "TRAIN_PATH_EX     = \"../../data/train_StationPathInfoEx.csv\"\n",
    "TEST_PATH         = \"../../data/test_StationPathInfo.csv\"\n",
    "TEST_PATH_EX      = \"../../data/test_StationPathInfoEx.csv\"\n",
    "\n",
    "SEED = 0\n",
    "CHUNKSIZE = 50000\n",
    "NROWS = 1200000\n",
    "\n",
    "ID_COLUMN = 'Id'\n",
    "TARGET_COLUMN = 'Response'\n",
    "    \n",
    "    \n",
    "    "
   ]
  },
  {
   "cell_type": "code",
   "execution_count": 3,
   "metadata": {
    "collapsed": true
   },
   "outputs": [],
   "source": [
    "# 読み出す。\n",
    "\n",
    "df_train_bin = pd.read_csv(TRAIN_PATH)\n",
    "df_test_bin  = pd.read_csv(TEST_PATH)\n",
    "df_pass = pd.concat([df_train_bin, df_test_bin])\n"
   ]
  },
  {
   "cell_type": "markdown",
   "metadata": {},
   "source": [
    "通過ステーションをヒートマップにしてみる。"
   ]
  },
  {
   "cell_type": "code",
   "execution_count": 4,
   "metadata": {},
   "outputs": [
    {
     "name": "stderr",
     "output_type": "stream",
     "text": [
      "C:\\Users\\Tomonobu\\Anaconda3\\lib\\site-packages\\ipykernel_launcher.py:7: DeprecationWarning: \n",
      ".ix is deprecated. Please use\n",
      ".loc for label based indexing or\n",
      ".iloc for positional indexing\n",
      "\n",
      "See the documentation here:\n",
      "http://pandas.pydata.org/pandas-docs/stable/indexing.html#ix-indexer-is-deprecated\n",
      "  import sys\n"
     ]
    }
   ],
   "source": [
    "# 時系列でソートしたヒートマップを出してみる。\n",
    "\n",
    "TEST_START_TIME      = \"../../data/test_StartEndTime.csv\"\n",
    "TRAIN_START_TIME     = \"../../data/train_StartEndTime.csv\"\n",
    "\n",
    "df_start_train = pd.read_csv(TRAIN_START_TIME)\n",
    "df_start_train = df_start_train.ix[:,['Id','StartTime','EndTime', 'Response']]\n",
    "df_start_test = pd.read_csv(TEST_START_TIME)\n",
    "df_start_test['Response'] = -1\n"
   ]
  },
  {
   "cell_type": "code",
   "execution_count": 5,
   "metadata": {},
   "outputs": [
    {
     "data": {
      "text/html": [
       "<div>\n",
       "<style>\n",
       "    .dataframe thead tr:only-child th {\n",
       "        text-align: right;\n",
       "    }\n",
       "\n",
       "    .dataframe thead th {\n",
       "        text-align: left;\n",
       "    }\n",
       "\n",
       "    .dataframe tbody tr th {\n",
       "        vertical-align: top;\n",
       "    }\n",
       "</style>\n",
       "<table border=\"1\" class=\"dataframe\">\n",
       "  <thead>\n",
       "    <tr style=\"text-align: right;\">\n",
       "      <th></th>\n",
       "      <th>Id</th>\n",
       "      <th>StartTime</th>\n",
       "      <th>EndTime</th>\n",
       "      <th>Response</th>\n",
       "    </tr>\n",
       "  </thead>\n",
       "  <tbody>\n",
       "    <tr>\n",
       "      <th>0</th>\n",
       "      <td>4</td>\n",
       "      <td>82.24</td>\n",
       "      <td>87.29</td>\n",
       "      <td>0</td>\n",
       "    </tr>\n",
       "    <tr>\n",
       "      <th>1</th>\n",
       "      <td>6</td>\n",
       "      <td>1313.12</td>\n",
       "      <td>1315.75</td>\n",
       "      <td>0</td>\n",
       "    </tr>\n",
       "    <tr>\n",
       "      <th>2</th>\n",
       "      <td>7</td>\n",
       "      <td>1618.70</td>\n",
       "      <td>1624.42</td>\n",
       "      <td>0</td>\n",
       "    </tr>\n",
       "    <tr>\n",
       "      <th>3</th>\n",
       "      <td>9</td>\n",
       "      <td>1149.20</td>\n",
       "      <td>1154.16</td>\n",
       "      <td>0</td>\n",
       "    </tr>\n",
       "    <tr>\n",
       "      <th>4</th>\n",
       "      <td>11</td>\n",
       "      <td>602.64</td>\n",
       "      <td>606.02</td>\n",
       "      <td>0</td>\n",
       "    </tr>\n",
       "  </tbody>\n",
       "</table>\n",
       "</div>"
      ],
      "text/plain": [
       "   Id  StartTime  EndTime  Response\n",
       "0   4      82.24    87.29         0\n",
       "1   6    1313.12  1315.75         0\n",
       "2   7    1618.70  1624.42         0\n",
       "3   9    1149.20  1154.16         0\n",
       "4  11     602.64   606.02         0"
      ]
     },
     "execution_count": 5,
     "metadata": {},
     "output_type": "execute_result"
    }
   ],
   "source": [
    "df_start_train.head()"
   ]
  },
  {
   "cell_type": "code",
   "execution_count": 6,
   "metadata": {},
   "outputs": [
    {
     "data": {
      "text/html": [
       "<div>\n",
       "<style>\n",
       "    .dataframe thead tr:only-child th {\n",
       "        text-align: right;\n",
       "    }\n",
       "\n",
       "    .dataframe thead th {\n",
       "        text-align: left;\n",
       "    }\n",
       "\n",
       "    .dataframe tbody tr th {\n",
       "        vertical-align: top;\n",
       "    }\n",
       "</style>\n",
       "<table border=\"1\" class=\"dataframe\">\n",
       "  <thead>\n",
       "    <tr style=\"text-align: right;\">\n",
       "      <th></th>\n",
       "      <th>Id</th>\n",
       "      <th>StartTime</th>\n",
       "      <th>EndTime</th>\n",
       "      <th>Response</th>\n",
       "    </tr>\n",
       "  </thead>\n",
       "  <tbody>\n",
       "    <tr>\n",
       "      <th>0</th>\n",
       "      <td>4</td>\n",
       "      <td>82.24</td>\n",
       "      <td>87.29</td>\n",
       "      <td>0</td>\n",
       "    </tr>\n",
       "    <tr>\n",
       "      <th>1</th>\n",
       "      <td>6</td>\n",
       "      <td>1313.12</td>\n",
       "      <td>1315.75</td>\n",
       "      <td>0</td>\n",
       "    </tr>\n",
       "    <tr>\n",
       "      <th>2</th>\n",
       "      <td>7</td>\n",
       "      <td>1618.70</td>\n",
       "      <td>1624.42</td>\n",
       "      <td>0</td>\n",
       "    </tr>\n",
       "    <tr>\n",
       "      <th>3</th>\n",
       "      <td>9</td>\n",
       "      <td>1149.20</td>\n",
       "      <td>1154.16</td>\n",
       "      <td>0</td>\n",
       "    </tr>\n",
       "    <tr>\n",
       "      <th>4</th>\n",
       "      <td>11</td>\n",
       "      <td>602.64</td>\n",
       "      <td>606.02</td>\n",
       "      <td>0</td>\n",
       "    </tr>\n",
       "  </tbody>\n",
       "</table>\n",
       "</div>"
      ],
      "text/plain": [
       "   Id  StartTime  EndTime  Response\n",
       "0   4      82.24    87.29         0\n",
       "1   6    1313.12  1315.75         0\n",
       "2   7    1618.70  1624.42         0\n",
       "3   9    1149.20  1154.16         0\n",
       "4  11     602.64   606.02         0"
      ]
     },
     "execution_count": 6,
     "metadata": {},
     "output_type": "execute_result"
    }
   ],
   "source": [
    "df_start_test.head()\n",
    "df_start = pd.concat([df_start_train, df_start_test])\n",
    "df_start.head()"
   ]
  },
  {
   "cell_type": "code",
   "execution_count": 7,
   "metadata": {
    "collapsed": true
   },
   "outputs": [],
   "source": [
    "df_train = pd.merge(df_start, df_pass, how='left')\n",
    "df_train = df_train.fillna(-1500)\n",
    "\n",
    "\n"
   ]
  },
  {
   "cell_type": "code",
   "execution_count": 8,
   "metadata": {},
   "outputs": [
    {
     "data": {
      "text/html": [
       "<div>\n",
       "<style>\n",
       "    .dataframe thead tr:only-child th {\n",
       "        text-align: right;\n",
       "    }\n",
       "\n",
       "    .dataframe thead th {\n",
       "        text-align: left;\n",
       "    }\n",
       "\n",
       "    .dataframe tbody tr th {\n",
       "        vertical-align: top;\n",
       "    }\n",
       "</style>\n",
       "<table border=\"1\" class=\"dataframe\">\n",
       "  <thead>\n",
       "    <tr style=\"text-align: right;\">\n",
       "      <th></th>\n",
       "      <th>Id</th>\n",
       "      <th>StartTime</th>\n",
       "      <th>EndTime</th>\n",
       "      <th>Response</th>\n",
       "      <th>L0_S0_D1</th>\n",
       "      <th>L0_S1_D26</th>\n",
       "      <th>L0_S2_D34</th>\n",
       "      <th>L0_S3_D70</th>\n",
       "      <th>L0_S4_D106</th>\n",
       "      <th>L0_S5_D115</th>\n",
       "      <th>...</th>\n",
       "      <th>L3_S42_D4029</th>\n",
       "      <th>L3_S43_D4062</th>\n",
       "      <th>L3_S44_D4101</th>\n",
       "      <th>L3_S45_D4125</th>\n",
       "      <th>L3_S46_D4135</th>\n",
       "      <th>L3_S47_D4140</th>\n",
       "      <th>L3_S48_D4194</th>\n",
       "      <th>L3_S49_D4208</th>\n",
       "      <th>L3_S50_D4242</th>\n",
       "      <th>L3_S51_D4255</th>\n",
       "    </tr>\n",
       "  </thead>\n",
       "  <tbody>\n",
       "  </tbody>\n",
       "</table>\n",
       "<p>0 rows × 56 columns</p>\n",
       "</div>"
      ],
      "text/plain": [
       "Empty DataFrame\n",
       "Columns: [Id, StartTime, EndTime, Response, L0_S0_D1, L0_S1_D26, L0_S2_D34, L0_S3_D70, L0_S4_D106, L0_S5_D115, L0_S6_D120, L0_S7_D137, L0_S8_D145, L0_S9_D152, L0_S10_D216, L0_S11_D280, L0_S12_D331, L0_S13_D355, L0_S14_D360, L0_S15_D395, L0_S16_D423, L0_S17_D432, L0_S18_D437, L0_S19_D454, L0_S20_D462, L0_S21_D469, L0_S22_D543, L0_S23_D617, L1_S24_D677, L1_S25_D1854, L2_S26_D3037, L2_S27_D3130, L2_S28_D3223, L3_S29_D3316, L3_S30_D3496, L3_S31_D3836, L3_S32_D3852, L3_S33_D3856, L3_S34_D3875, L3_S35_D3886, L3_S36_D3919, L3_S37_D3942, L3_S38_D3953, L3_S39_D3966, L3_S40_D3981, L3_S41_D3997, L3_S42_D4029, L3_S43_D4062, L3_S44_D4101, L3_S45_D4125, L3_S46_D4135, L3_S47_D4140, L3_S48_D4194, L3_S49_D4208, L3_S50_D4242, L3_S51_D4255]\n",
       "Index: []\n",
       "\n",
       "[0 rows x 56 columns]"
      ]
     },
     "execution_count": 8,
     "metadata": {},
     "output_type": "execute_result"
    }
   ],
   "source": [
    "df_train[df_train.isnull().any(axis=1)]"
   ]
  },
  {
   "cell_type": "code",
   "execution_count": null,
   "metadata": {},
   "outputs": [
    {
     "name": "stderr",
     "output_type": "stream",
     "text": [
      "C:\\Users\\Tomonobu\\Anaconda3\\lib\\site-packages\\sklearn\\cross_validation.py:41: DeprecationWarning: This module was deprecated in version 0.18 in favor of the model_selection module into which all the refactored classes and functions are moved. Also note that the interface of the new CV iterators are different from that of this module. This module will be removed in 0.20.\n",
      "  \"This module will be removed in 0.20.\", DeprecationWarning)\n"
     ]
    }
   ],
   "source": [
    "from sklearn.model_selection import train_test_split\n",
    "import xgboost as xgb\n",
    "from sklearn.metrics import confusion_matrix\n",
    "from sklearn.model_selection import GridSearchCV\n",
    "from sklearn.metrics import accuracy_score, log_loss, make_scorer\n",
    "\n",
    "def calc_mcc(cf_mat):\n",
    "    tn, fp, fn, tp = cf_mat.ravel()\n",
    "    print(tn, fp, fn, tp)\n",
    "    mcc = (tp * tn - fp * fn) / np.sqrt((tp + fp) * (tp + fn) * (tn + fp) * (tn + fn))\n",
    "    return mcc\n",
    "\n",
    "def mcc_scorer(y_true, y_pred):\n",
    "    cf_mat = confusion_matrix(y_true, y_pred)\n",
    "    return calc_mcc(cf_mat)\n",
    "\n",
    "def separate_X_y(df):\n",
    "    X = df.drop(['Response'], axis=1)\n",
    "    y = df['Response']\n",
    "    return X, y\n",
    "\n",
    "def train_with_r_forest(df):\n",
    "    X_train, y_train = separate_X_y(df)\n",
    "\n",
    "    cl_weight = {0:0.3, 1:0.7}\n",
    "    \n",
    "    # Grid Search\n",
    "    params={'max_depth': [10, 25, 50],\n",
    "            'subsample': [0.8, 0.9, 0.95],\n",
    "            'colsample_bytree': [1.0],\n",
    "            'scale_pos_weight': [2, 3, 4, 5]\n",
    "    }\n",
    "\n",
    "    xgb_model = xgb.XGBClassifier()\n",
    "    gs = GridSearchCV(xgb_model,\n",
    "                      params,\n",
    "                      cv=5,\n",
    "                      scoring={'mcc' : make_scorer(mcc_scorer)},\n",
    "                      n_jobs=1,\n",
    "                      verbose=2,\n",
    "                      refit='mcc')\n",
    "\n",
    "    gs.fit(X_train, y_train)\n",
    "#rf = RandomForestClassifier(max_depth=10,n_estimators=50, random_state=33)\n",
    "#    rf.fit(X_train, y_train)\n",
    "    return gs\n"
   ]
  },
  {
   "cell_type": "code",
   "execution_count": null,
   "metadata": {},
   "outputs": [
    {
     "name": "stdout",
     "output_type": "stream",
     "text": [
      "Fitting 5 folds for each of 36 candidates, totalling 180 fits\n",
      "[CV] colsample_bytree=1.0, max_depth=10, scale_pos_weight=2, subsample=0.8 \n",
      "31111 71 883 157\n",
      "124595 133 3262 895\n",
      "[CV]  colsample_bytree=1.0, max_depth=10, scale_pos_weight=2, subsample=0.8, total=  23.1s\n",
      "[CV] colsample_bytree=1.0, max_depth=10, scale_pos_weight=2, subsample=0.8 \n"
     ]
    },
    {
     "name": "stderr",
     "output_type": "stream",
     "text": [
      "[Parallel(n_jobs=1)]: Done   1 out of   1 | elapsed:   24.0s remaining:    0.0s\n"
     ]
    },
    {
     "name": "stdout",
     "output_type": "stream",
     "text": [
      "31105 77 889 151\n",
      "124601 127 3241 916\n",
      "[CV]  colsample_bytree=1.0, max_depth=10, scale_pos_weight=2, subsample=0.8, total=  23.7s\n",
      "[CV] colsample_bytree=1.0, max_depth=10, scale_pos_weight=2, subsample=0.8 \n"
     ]
    }
   ],
   "source": [
    "\n",
    "\n",
    "\n",
    "def train_rf_parameter(df):\n",
    "    df = df[(df['Response'] == 0) | (df['Response'] == 1)]\n",
    "    df_train, df_test = train_test_split(df, random_state=33)\n",
    "    \n",
    "    df_train_ok   = df_train[df_train['Response'] == 0]\n",
    "    df_train_ng   = df_train[df_train['Response'] == 1]\n",
    "    undersample_rate = len(df_train_ng) * 30 / len(df_train_ok)\n",
    "    df_train_ok_sample = df_train_ok.sample(frac = undersample_rate)\n",
    "    df_train = pd.concat([df_train_ok_sample, df_train_ng])\n",
    "\n",
    "    rf = train_with_r_forest(df_train)\n",
    "    X_test, y_test = separate_X_y(df_test)\n",
    "    y_pred = rf.predict(X_test)\n",
    "    print(y_pred)   \n",
    "    \n",
    "    cf_mat = confusion_matrix(y_test, y_pred)\n",
    "    print(cf_mat)\n",
    "\n",
    "    mcc = calc_mcc(cf_mat)\n",
    "    print(mcc)    \n",
    "    return rf\n",
    "\n",
    "model = train_rf_parameter(df_train)\n",
    "\n",
    "\n"
   ]
  },
  {
   "cell_type": "code",
   "execution_count": null,
   "metadata": {},
   "outputs": [],
   "source": [
    "model.best_estimator_"
   ]
  },
  {
   "cell_type": "code",
   "execution_count": null,
   "metadata": {},
   "outputs": [],
   "source": [
    "def train_and_predict_one_chnuk(df_train):\n",
    "    df_train_ok   = df_train[df_train['Response'] == 0]\n",
    "    df_train_ng   = df_train[df_train['Response'] == 1]\n",
    "    df_test = df_train[df_train['Response'] == -1]\n",
    "    \n",
    "    undersample_rate = len(df_train_ng) * 20 / len(df_train_ok)\n",
    "    df_train_ok_sample = df_train_ok.sample(frac = undersample_rate)\n",
    "\n",
    "    df_train_balance = pd.concat([df_train_ok_sample, df_train_ng])\n",
    "    \n",
    "    rf = train_with_r_forest(df_train_balance)\n",
    "\n",
    "    X_test, y_test = separate_X_y(df_test)\n",
    "    y_pred = rf.predict(X_test)\n",
    "      \n",
    "    df_result_add = pd.DataFrame(columns=['Id', 'Response'])\n",
    "    df_result_add.loc[:, 'Id']       = df_test['Id'].values\n",
    "    df_result_add.loc[:, 'Response'] = y_pred\n",
    "    \n",
    "    return df_result_add\n",
    "\n",
    "df_result = train_and_predict_one_chnuk(df_train)\n",
    "    "
   ]
  },
  {
   "cell_type": "code",
   "execution_count": null,
   "metadata": {},
   "outputs": [],
   "source": [
    "df_result[df_result['Response']==1].shape\n"
   ]
  },
  {
   "cell_type": "code",
   "execution_count": null,
   "metadata": {},
   "outputs": [],
   "source": [
    "df_result[df_result['Response']==0].shape"
   ]
  },
  {
   "cell_type": "code",
   "execution_count": null,
   "metadata": {
    "collapsed": true
   },
   "outputs": [],
   "source": [
    "df_result.to_csv(\"../../submission/submit_20180621_2.csv\", index=False)"
   ]
  },
  {
   "cell_type": "markdown",
   "metadata": {
    "collapsed": true
   },
   "source": [
    "XGBClassifier(base_score=0.5, colsample_bylevel=1, colsample_bytree=1.0,\n",
    "       gamma=0, learning_rate=0.1, max_delta_step=0, max_depth=25,\n",
    "       min_child_weight=1, missing=None, n_estimators=100, nthread=-1,\n",
    "       objective='binary:logistic', reg_alpha=0, reg_lambda=1,\n",
    "       scale_pos_weight=2, seed=0, silent=True, subsample=0.95)"
   ]
  },
  {
   "cell_type": "code",
   "execution_count": null,
   "metadata": {
    "collapsed": true
   },
   "outputs": [],
   "source": []
  },
  {
   "cell_type": "code",
   "execution_count": null,
   "metadata": {
    "collapsed": true
   },
   "outputs": [],
   "source": []
  },
  {
   "cell_type": "code",
   "execution_count": null,
   "metadata": {
    "collapsed": true
   },
   "outputs": [],
   "source": []
  }
 ],
 "metadata": {
  "kernelspec": {
   "display_name": "Python 3",
   "language": "python",
   "name": "python3"
  },
  "language_info": {
   "codemirror_mode": {
    "name": "ipython",
    "version": 3
   },
   "file_extension": ".py",
   "mimetype": "text/x-python",
   "name": "python",
   "nbconvert_exporter": "python",
   "pygments_lexer": "ipython3",
   "version": "3.6.3"
  }
 },
 "nbformat": 4,
 "nbformat_minor": 2
}
